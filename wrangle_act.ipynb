{
 "cells": [
  {
   "cell_type": "markdown",
   "metadata": {},
   "source": [
    "## Wrangle and Analyze Data"
   ]
  },
  {
   "cell_type": "markdown",
   "metadata": {},
   "source": [
    "## Gather"
   ]
  },
  {
   "cell_type": "code",
   "execution_count": 1,
   "metadata": {},
   "outputs": [],
   "source": [
    "# import statement\n",
    "\n",
    "import pandas as pd\n",
    "import numpy as np\n",
    "import matplotlib.pyplot as plt\n",
    "import requests\n",
    "import os\n",
    "import tweepy\n",
    "import json\n",
    "import re\n",
    "import seaborn as sns\n",
    "\n"
   ]
  },
  {
   "cell_type": "code",
   "execution_count": 2,
   "metadata": {},
   "outputs": [],
   "source": [
    "# Read csv file\n",
    "twitter = pd.read_csv('twitter-archive-enhanced.csv')"
   ]
  },
  {
   "cell_type": "code",
   "execution_count": 3,
   "metadata": {},
   "outputs": [],
   "source": [
    "# Download and import image_predictions TSV file into a DataFrame\n",
    "url = 'https://d17h27t6h515a5.cloudfront.net/topher/2017/August/599fd2ad_image-predictions/image-predictions.tsv'    \n",
    "response = requests.get(url)\n",
    "with open('image_predictions.tsv', 'wb') as file:\n",
    "    file.write(response.content)\n",
    "\n",
    "twitter_predictions = pd.read_csv('image_predictions.tsv', sep = '\\t')\n"
   ]
  },
  {
   "cell_type": "code",
   "execution_count": 4,
   "metadata": {},
   "outputs": [],
   "source": [
    "# Setting up the Twitter API with authentication pieces\n",
    "consumer_key = ' '\n",
    "consumer_secret = ' '\n",
    "access_token = ' '\n",
    "access_secret = ' '\n",
    "\n",
    "auth = tweepy.OAuthHandler(consumer_key, consumer_secret)\n",
    "auth.set_access_token(access_token, access_secret)\n",
    "\n",
    "api = tweepy.API(auth, parser=tweepy.parsers.JSONParser())"
   ]
  },
  {
   "cell_type": "code",
   "execution_count": 5,
   "metadata": {},
   "outputs": [],
   "source": [
    "# Use Twitter API to collect status data on tweets present in twitter1 dataframe\n",
    "#tweet_ids = list(twitter['tweet_id'])\n",
    "#\n",
    "#tweet_data = []\n",
    "#tweet_id_success = []\n",
    "#tweet_id_missing = []\n",
    "#for tweet_id in tweet_ids:\n",
    "#    try:\n",
    "#        data = api.get_status(tweet_id, \n",
    "#                              tweet_mode='extended',\n",
    "#                              wait_on_rate_limit = True,\n",
    "#                              wait_on_rate_limit_notify = True)\n",
    "#        tweet_data.append(data)\n",
    "#        tweet_id_success.append(tweet_id)\n",
    "#    except:\n",
    "#        tweet_id_missing.append(tweet_id)"
   ]
  },
  {
   "cell_type": "code",
   "execution_count": 6,
   "metadata": {},
   "outputs": [],
   "source": [
    "# Write tweet data to json file\n",
    "#with open('tweet_json.txt', mode = 'w') as file:\n",
    "#    json.dump(tweet_data, file)\n",
    "    "
   ]
  },
  {
   "cell_type": "code",
   "execution_count": 7,
   "metadata": {},
   "outputs": [],
   "source": [
    "# Load the Twitter API data\n",
    "twitter_add = pd.read_json('tweet_json.txt')\n",
    "twitter_add = twitter_add[['id', 'favorite_count', 'retweet_count']]\n",
    "twitter_add=twitter_add.rename(columns = {'id':'tweet_id'})"
   ]
  },
  {
   "cell_type": "code",
   "execution_count": null,
   "metadata": {},
   "outputs": [],
   "source": []
  },
  {
   "cell_type": "markdown",
   "metadata": {},
   "source": [
    "## Assess"
   ]
  },
  {
   "cell_type": "code",
   "execution_count": 8,
   "metadata": {},
   "outputs": [
    {
     "data": {
      "text/html": [
       "<div>\n",
       "<style scoped>\n",
       "    .dataframe tbody tr th:only-of-type {\n",
       "        vertical-align: middle;\n",
       "    }\n",
       "\n",
       "    .dataframe tbody tr th {\n",
       "        vertical-align: top;\n",
       "    }\n",
       "\n",
       "    .dataframe thead th {\n",
       "        text-align: right;\n",
       "    }\n",
       "</style>\n",
       "<table border=\"1\" class=\"dataframe\">\n",
       "  <thead>\n",
       "    <tr style=\"text-align: right;\">\n",
       "      <th></th>\n",
       "      <th>tweet_id</th>\n",
       "      <th>in_reply_to_status_id</th>\n",
       "      <th>in_reply_to_user_id</th>\n",
       "      <th>timestamp</th>\n",
       "      <th>source</th>\n",
       "      <th>text</th>\n",
       "      <th>retweeted_status_id</th>\n",
       "      <th>retweeted_status_user_id</th>\n",
       "      <th>retweeted_status_timestamp</th>\n",
       "      <th>expanded_urls</th>\n",
       "      <th>rating_numerator</th>\n",
       "      <th>rating_denominator</th>\n",
       "      <th>name</th>\n",
       "      <th>doggo</th>\n",
       "      <th>floofer</th>\n",
       "      <th>pupper</th>\n",
       "      <th>puppo</th>\n",
       "    </tr>\n",
       "  </thead>\n",
       "  <tbody>\n",
       "    <tr>\n",
       "      <th>1488</th>\n",
       "      <td>692919143163629568</td>\n",
       "      <td>NaN</td>\n",
       "      <td>NaN</td>\n",
       "      <td>2016-01-29 03:56:12 +0000</td>\n",
       "      <td>&lt;a href=\"http://twitter.com/download/iphone\" r...</td>\n",
       "      <td>Please only send in dogs. Don't submit other t...</td>\n",
       "      <td>NaN</td>\n",
       "      <td>NaN</td>\n",
       "      <td>NaN</td>\n",
       "      <td>https://twitter.com/dog_rates/status/692919143...</td>\n",
       "      <td>9</td>\n",
       "      <td>10</td>\n",
       "      <td>None</td>\n",
       "      <td>None</td>\n",
       "      <td>None</td>\n",
       "      <td>None</td>\n",
       "      <td>None</td>\n",
       "    </tr>\n",
       "    <tr>\n",
       "      <th>1337</th>\n",
       "      <td>705102439679201280</td>\n",
       "      <td>NaN</td>\n",
       "      <td>NaN</td>\n",
       "      <td>2016-03-02 18:48:16 +0000</td>\n",
       "      <td>&lt;a href=\"http://twitter.com/download/iphone\" r...</td>\n",
       "      <td>This is Terrenth. He just stubbed his toe. 10/...</td>\n",
       "      <td>NaN</td>\n",
       "      <td>NaN</td>\n",
       "      <td>NaN</td>\n",
       "      <td>https://twitter.com/dog_rates/status/705102439...</td>\n",
       "      <td>10</td>\n",
       "      <td>10</td>\n",
       "      <td>Terrenth</td>\n",
       "      <td>None</td>\n",
       "      <td>None</td>\n",
       "      <td>None</td>\n",
       "      <td>None</td>\n",
       "    </tr>\n",
       "    <tr>\n",
       "      <th>383</th>\n",
       "      <td>827199976799354881</td>\n",
       "      <td>NaN</td>\n",
       "      <td>NaN</td>\n",
       "      <td>2017-02-02 17:00:17 +0000</td>\n",
       "      <td>&lt;a href=\"http://twitter.com/download/iphone\" r...</td>\n",
       "      <td>This is Charlie. He wins every game of chess h...</td>\n",
       "      <td>NaN</td>\n",
       "      <td>NaN</td>\n",
       "      <td>NaN</td>\n",
       "      <td>https://twitter.com/dog_rates/status/827199976...</td>\n",
       "      <td>13</td>\n",
       "      <td>10</td>\n",
       "      <td>Charlie</td>\n",
       "      <td>None</td>\n",
       "      <td>None</td>\n",
       "      <td>None</td>\n",
       "      <td>None</td>\n",
       "    </tr>\n",
       "    <tr>\n",
       "      <th>56</th>\n",
       "      <td>881536004380872706</td>\n",
       "      <td>NaN</td>\n",
       "      <td>NaN</td>\n",
       "      <td>2017-07-02 15:32:16 +0000</td>\n",
       "      <td>&lt;a href=\"http://twitter.com/download/iphone\" r...</td>\n",
       "      <td>Here is a pupper approaching maximum borkdrive...</td>\n",
       "      <td>NaN</td>\n",
       "      <td>NaN</td>\n",
       "      <td>NaN</td>\n",
       "      <td>https://twitter.com/dog_rates/status/881536004...</td>\n",
       "      <td>14</td>\n",
       "      <td>10</td>\n",
       "      <td>a</td>\n",
       "      <td>None</td>\n",
       "      <td>None</td>\n",
       "      <td>pupper</td>\n",
       "      <td>None</td>\n",
       "    </tr>\n",
       "    <tr>\n",
       "      <th>2065</th>\n",
       "      <td>671151324042559489</td>\n",
       "      <td>NaN</td>\n",
       "      <td>NaN</td>\n",
       "      <td>2015-11-30 02:18:39 +0000</td>\n",
       "      <td>&lt;a href=\"http://twitter.com/download/iphone\" r...</td>\n",
       "      <td>*struggling to breathe properly* 12/10 https:/...</td>\n",
       "      <td>NaN</td>\n",
       "      <td>NaN</td>\n",
       "      <td>NaN</td>\n",
       "      <td>https://twitter.com/dog_rates/status/671151324...</td>\n",
       "      <td>12</td>\n",
       "      <td>10</td>\n",
       "      <td>None</td>\n",
       "      <td>None</td>\n",
       "      <td>None</td>\n",
       "      <td>None</td>\n",
       "      <td>None</td>\n",
       "    </tr>\n",
       "    <tr>\n",
       "      <th>2290</th>\n",
       "      <td>667171260800061440</td>\n",
       "      <td>NaN</td>\n",
       "      <td>NaN</td>\n",
       "      <td>2015-11-19 02:43:18 +0000</td>\n",
       "      <td>&lt;a href=\"http://twitter.com/download/iphone\" r...</td>\n",
       "      <td>Say hello to Kenneth. He likes Reese's Puffs. ...</td>\n",
       "      <td>NaN</td>\n",
       "      <td>NaN</td>\n",
       "      <td>NaN</td>\n",
       "      <td>https://twitter.com/dog_rates/status/667171260...</td>\n",
       "      <td>10</td>\n",
       "      <td>10</td>\n",
       "      <td>Kenneth</td>\n",
       "      <td>None</td>\n",
       "      <td>None</td>\n",
       "      <td>None</td>\n",
       "      <td>None</td>\n",
       "    </tr>\n",
       "    <tr>\n",
       "      <th>1688</th>\n",
       "      <td>681523177663676416</td>\n",
       "      <td>NaN</td>\n",
       "      <td>NaN</td>\n",
       "      <td>2015-12-28 17:12:42 +0000</td>\n",
       "      <td>&lt;a href=\"http://twitter.com/download/iphone\" r...</td>\n",
       "      <td>This is Carly. She's actually 2 dogs fused tog...</td>\n",
       "      <td>NaN</td>\n",
       "      <td>NaN</td>\n",
       "      <td>NaN</td>\n",
       "      <td>https://twitter.com/dog_rates/status/681523177...</td>\n",
       "      <td>12</td>\n",
       "      <td>10</td>\n",
       "      <td>Carly</td>\n",
       "      <td>None</td>\n",
       "      <td>None</td>\n",
       "      <td>None</td>\n",
       "      <td>None</td>\n",
       "    </tr>\n",
       "    <tr>\n",
       "      <th>1079</th>\n",
       "      <td>739238157791694849</td>\n",
       "      <td>NaN</td>\n",
       "      <td>NaN</td>\n",
       "      <td>2016-06-04 23:31:25 +0000</td>\n",
       "      <td>&lt;a href=\"http://twitter.com/download/iphone\" r...</td>\n",
       "      <td>Here's a doggo blowing bubbles. It's downright...</td>\n",
       "      <td>NaN</td>\n",
       "      <td>NaN</td>\n",
       "      <td>NaN</td>\n",
       "      <td>https://twitter.com/dog_rates/status/739238157...</td>\n",
       "      <td>13</td>\n",
       "      <td>10</td>\n",
       "      <td>None</td>\n",
       "      <td>doggo</td>\n",
       "      <td>None</td>\n",
       "      <td>None</td>\n",
       "      <td>None</td>\n",
       "    </tr>\n",
       "  </tbody>\n",
       "</table>\n",
       "</div>"
      ],
      "text/plain": [
       "                tweet_id  in_reply_to_status_id  in_reply_to_user_id  \\\n",
       "1488  692919143163629568                    NaN                  NaN   \n",
       "1337  705102439679201280                    NaN                  NaN   \n",
       "383   827199976799354881                    NaN                  NaN   \n",
       "56    881536004380872706                    NaN                  NaN   \n",
       "2065  671151324042559489                    NaN                  NaN   \n",
       "2290  667171260800061440                    NaN                  NaN   \n",
       "1688  681523177663676416                    NaN                  NaN   \n",
       "1079  739238157791694849                    NaN                  NaN   \n",
       "\n",
       "                      timestamp  \\\n",
       "1488  2016-01-29 03:56:12 +0000   \n",
       "1337  2016-03-02 18:48:16 +0000   \n",
       "383   2017-02-02 17:00:17 +0000   \n",
       "56    2017-07-02 15:32:16 +0000   \n",
       "2065  2015-11-30 02:18:39 +0000   \n",
       "2290  2015-11-19 02:43:18 +0000   \n",
       "1688  2015-12-28 17:12:42 +0000   \n",
       "1079  2016-06-04 23:31:25 +0000   \n",
       "\n",
       "                                                 source  \\\n",
       "1488  <a href=\"http://twitter.com/download/iphone\" r...   \n",
       "1337  <a href=\"http://twitter.com/download/iphone\" r...   \n",
       "383   <a href=\"http://twitter.com/download/iphone\" r...   \n",
       "56    <a href=\"http://twitter.com/download/iphone\" r...   \n",
       "2065  <a href=\"http://twitter.com/download/iphone\" r...   \n",
       "2290  <a href=\"http://twitter.com/download/iphone\" r...   \n",
       "1688  <a href=\"http://twitter.com/download/iphone\" r...   \n",
       "1079  <a href=\"http://twitter.com/download/iphone\" r...   \n",
       "\n",
       "                                                   text  retweeted_status_id  \\\n",
       "1488  Please only send in dogs. Don't submit other t...                  NaN   \n",
       "1337  This is Terrenth. He just stubbed his toe. 10/...                  NaN   \n",
       "383   This is Charlie. He wins every game of chess h...                  NaN   \n",
       "56    Here is a pupper approaching maximum borkdrive...                  NaN   \n",
       "2065  *struggling to breathe properly* 12/10 https:/...                  NaN   \n",
       "2290  Say hello to Kenneth. He likes Reese's Puffs. ...                  NaN   \n",
       "1688  This is Carly. She's actually 2 dogs fused tog...                  NaN   \n",
       "1079  Here's a doggo blowing bubbles. It's downright...                  NaN   \n",
       "\n",
       "      retweeted_status_user_id retweeted_status_timestamp  \\\n",
       "1488                       NaN                        NaN   \n",
       "1337                       NaN                        NaN   \n",
       "383                        NaN                        NaN   \n",
       "56                         NaN                        NaN   \n",
       "2065                       NaN                        NaN   \n",
       "2290                       NaN                        NaN   \n",
       "1688                       NaN                        NaN   \n",
       "1079                       NaN                        NaN   \n",
       "\n",
       "                                          expanded_urls  rating_numerator  \\\n",
       "1488  https://twitter.com/dog_rates/status/692919143...                 9   \n",
       "1337  https://twitter.com/dog_rates/status/705102439...                10   \n",
       "383   https://twitter.com/dog_rates/status/827199976...                13   \n",
       "56    https://twitter.com/dog_rates/status/881536004...                14   \n",
       "2065  https://twitter.com/dog_rates/status/671151324...                12   \n",
       "2290  https://twitter.com/dog_rates/status/667171260...                10   \n",
       "1688  https://twitter.com/dog_rates/status/681523177...                12   \n",
       "1079  https://twitter.com/dog_rates/status/739238157...                13   \n",
       "\n",
       "      rating_denominator      name  doggo floofer  pupper puppo  \n",
       "1488                  10      None   None    None    None  None  \n",
       "1337                  10  Terrenth   None    None    None  None  \n",
       "383                   10   Charlie   None    None    None  None  \n",
       "56                    10         a   None    None  pupper  None  \n",
       "2065                  10      None   None    None    None  None  \n",
       "2290                  10   Kenneth   None    None    None  None  \n",
       "1688                  10     Carly   None    None    None  None  \n",
       "1079                  10      None  doggo    None    None  None  "
      ]
     },
     "execution_count": 8,
     "metadata": {},
     "output_type": "execute_result"
    }
   ],
   "source": [
    "# Display the twitter table\n",
    "twitter.sample(8)"
   ]
  },
  {
   "cell_type": "code",
   "execution_count": 9,
   "metadata": {},
   "outputs": [
    {
     "data": {
      "text/html": [
       "<div>\n",
       "<style scoped>\n",
       "    .dataframe tbody tr th:only-of-type {\n",
       "        vertical-align: middle;\n",
       "    }\n",
       "\n",
       "    .dataframe tbody tr th {\n",
       "        vertical-align: top;\n",
       "    }\n",
       "\n",
       "    .dataframe thead th {\n",
       "        text-align: right;\n",
       "    }\n",
       "</style>\n",
       "<table border=\"1\" class=\"dataframe\">\n",
       "  <thead>\n",
       "    <tr style=\"text-align: right;\">\n",
       "      <th></th>\n",
       "      <th>tweet_id</th>\n",
       "      <th>jpg_url</th>\n",
       "      <th>img_num</th>\n",
       "      <th>p1</th>\n",
       "      <th>p1_conf</th>\n",
       "      <th>p1_dog</th>\n",
       "      <th>p2</th>\n",
       "      <th>p2_conf</th>\n",
       "      <th>p2_dog</th>\n",
       "      <th>p3</th>\n",
       "      <th>p3_conf</th>\n",
       "      <th>p3_dog</th>\n",
       "    </tr>\n",
       "  </thead>\n",
       "  <tbody>\n",
       "    <tr>\n",
       "      <th>2035</th>\n",
       "      <td>884162670584377345</td>\n",
       "      <td>https://pbs.twimg.com/media/DEUtQbzW0AUTv_o.jpg</td>\n",
       "      <td>1</td>\n",
       "      <td>German_shepherd</td>\n",
       "      <td>0.707046</td>\n",
       "      <td>True</td>\n",
       "      <td>malinois</td>\n",
       "      <td>0.199396</td>\n",
       "      <td>True</td>\n",
       "      <td>Norwegian_elkhound</td>\n",
       "      <td>0.049148</td>\n",
       "      <td>True</td>\n",
       "    </tr>\n",
       "    <tr>\n",
       "      <th>19</th>\n",
       "      <td>666273097616637952</td>\n",
       "      <td>https://pbs.twimg.com/media/CT8T1mtUwAA3aqm.jpg</td>\n",
       "      <td>1</td>\n",
       "      <td>Italian_greyhound</td>\n",
       "      <td>0.176053</td>\n",
       "      <td>True</td>\n",
       "      <td>toy_terrier</td>\n",
       "      <td>0.111884</td>\n",
       "      <td>True</td>\n",
       "      <td>basenji</td>\n",
       "      <td>0.111152</td>\n",
       "      <td>True</td>\n",
       "    </tr>\n",
       "    <tr>\n",
       "      <th>1218</th>\n",
       "      <td>743609206067040256</td>\n",
       "      <td>https://pbs.twimg.com/media/ClHUkhQWAAAy7Yj.jpg</td>\n",
       "      <td>3</td>\n",
       "      <td>Weimaraner</td>\n",
       "      <td>0.982794</td>\n",
       "      <td>True</td>\n",
       "      <td>American_Staffordshire_terrier</td>\n",
       "      <td>0.004766</td>\n",
       "      <td>True</td>\n",
       "      <td>Great_Dane</td>\n",
       "      <td>0.003432</td>\n",
       "      <td>True</td>\n",
       "    </tr>\n",
       "    <tr>\n",
       "      <th>1851</th>\n",
       "      <td>840370681858686976</td>\n",
       "      <td>https://pbs.twimg.com/media/C6mYrK0UwAANhep.jpg</td>\n",
       "      <td>1</td>\n",
       "      <td>teapot</td>\n",
       "      <td>0.981819</td>\n",
       "      <td>False</td>\n",
       "      <td>cup</td>\n",
       "      <td>0.014026</td>\n",
       "      <td>False</td>\n",
       "      <td>coffeepot</td>\n",
       "      <td>0.002421</td>\n",
       "      <td>False</td>\n",
       "    </tr>\n",
       "    <tr>\n",
       "      <th>1749</th>\n",
       "      <td>823699002998870016</td>\n",
       "      <td>https://pbs.twimg.com/media/C25d3nkXEAAFBUN.jpg</td>\n",
       "      <td>1</td>\n",
       "      <td>cairn</td>\n",
       "      <td>0.203999</td>\n",
       "      <td>True</td>\n",
       "      <td>snorkel</td>\n",
       "      <td>0.171893</td>\n",
       "      <td>False</td>\n",
       "      <td>Norfolk_terrier</td>\n",
       "      <td>0.107543</td>\n",
       "      <td>True</td>\n",
       "    </tr>\n",
       "    <tr>\n",
       "      <th>1587</th>\n",
       "      <td>798209839306514432</td>\n",
       "      <td>https://pbs.twimg.com/media/CxPPnCYWIAAo_ao.jpg</td>\n",
       "      <td>1</td>\n",
       "      <td>Pekinese</td>\n",
       "      <td>0.524583</td>\n",
       "      <td>True</td>\n",
       "      <td>Shih-Tzu</td>\n",
       "      <td>0.102931</td>\n",
       "      <td>True</td>\n",
       "      <td>Pomeranian</td>\n",
       "      <td>0.097893</td>\n",
       "      <td>True</td>\n",
       "    </tr>\n",
       "    <tr>\n",
       "      <th>1868</th>\n",
       "      <td>844223788422217728</td>\n",
       "      <td>https://pbs.twimg.com/media/C7dJCnqU4AAswat.jpg</td>\n",
       "      <td>1</td>\n",
       "      <td>Labrador_retriever</td>\n",
       "      <td>0.719510</td>\n",
       "      <td>True</td>\n",
       "      <td>Chesapeake_Bay_retriever</td>\n",
       "      <td>0.122019</td>\n",
       "      <td>True</td>\n",
       "      <td>Newfoundland</td>\n",
       "      <td>0.038828</td>\n",
       "      <td>True</td>\n",
       "    </tr>\n",
       "    <tr>\n",
       "      <th>1321</th>\n",
       "      <td>756303284449767430</td>\n",
       "      <td>https://pbs.twimg.com/media/Cn7tyyZWYAAPlAY.jpg</td>\n",
       "      <td>1</td>\n",
       "      <td>golden_retriever</td>\n",
       "      <td>0.981652</td>\n",
       "      <td>True</td>\n",
       "      <td>cocker_spaniel</td>\n",
       "      <td>0.006790</td>\n",
       "      <td>True</td>\n",
       "      <td>Labrador_retriever</td>\n",
       "      <td>0.004325</td>\n",
       "      <td>True</td>\n",
       "    </tr>\n",
       "  </tbody>\n",
       "</table>\n",
       "</div>"
      ],
      "text/plain": [
       "                tweet_id                                          jpg_url  \\\n",
       "2035  884162670584377345  https://pbs.twimg.com/media/DEUtQbzW0AUTv_o.jpg   \n",
       "19    666273097616637952  https://pbs.twimg.com/media/CT8T1mtUwAA3aqm.jpg   \n",
       "1218  743609206067040256  https://pbs.twimg.com/media/ClHUkhQWAAAy7Yj.jpg   \n",
       "1851  840370681858686976  https://pbs.twimg.com/media/C6mYrK0UwAANhep.jpg   \n",
       "1749  823699002998870016  https://pbs.twimg.com/media/C25d3nkXEAAFBUN.jpg   \n",
       "1587  798209839306514432  https://pbs.twimg.com/media/CxPPnCYWIAAo_ao.jpg   \n",
       "1868  844223788422217728  https://pbs.twimg.com/media/C7dJCnqU4AAswat.jpg   \n",
       "1321  756303284449767430  https://pbs.twimg.com/media/Cn7tyyZWYAAPlAY.jpg   \n",
       "\n",
       "      img_num                  p1   p1_conf  p1_dog  \\\n",
       "2035        1     German_shepherd  0.707046    True   \n",
       "19          1   Italian_greyhound  0.176053    True   \n",
       "1218        3          Weimaraner  0.982794    True   \n",
       "1851        1              teapot  0.981819   False   \n",
       "1749        1               cairn  0.203999    True   \n",
       "1587        1            Pekinese  0.524583    True   \n",
       "1868        1  Labrador_retriever  0.719510    True   \n",
       "1321        1    golden_retriever  0.981652    True   \n",
       "\n",
       "                                  p2   p2_conf  p2_dog                  p3  \\\n",
       "2035                        malinois  0.199396    True  Norwegian_elkhound   \n",
       "19                       toy_terrier  0.111884    True             basenji   \n",
       "1218  American_Staffordshire_terrier  0.004766    True          Great_Dane   \n",
       "1851                             cup  0.014026   False           coffeepot   \n",
       "1749                         snorkel  0.171893   False     Norfolk_terrier   \n",
       "1587                        Shih-Tzu  0.102931    True          Pomeranian   \n",
       "1868        Chesapeake_Bay_retriever  0.122019    True        Newfoundland   \n",
       "1321                  cocker_spaniel  0.006790    True  Labrador_retriever   \n",
       "\n",
       "       p3_conf  p3_dog  \n",
       "2035  0.049148    True  \n",
       "19    0.111152    True  \n",
       "1218  0.003432    True  \n",
       "1851  0.002421   False  \n",
       "1749  0.107543    True  \n",
       "1587  0.097893    True  \n",
       "1868  0.038828    True  \n",
       "1321  0.004325    True  "
      ]
     },
     "execution_count": 9,
     "metadata": {},
     "output_type": "execute_result"
    }
   ],
   "source": [
    "# Display the twitter_predictions table\n",
    "twitter_predictions.sample(8)"
   ]
  },
  {
   "cell_type": "code",
   "execution_count": 10,
   "metadata": {},
   "outputs": [
    {
     "data": {
      "text/html": [
       "<div>\n",
       "<style scoped>\n",
       "    .dataframe tbody tr th:only-of-type {\n",
       "        vertical-align: middle;\n",
       "    }\n",
       "\n",
       "    .dataframe tbody tr th {\n",
       "        vertical-align: top;\n",
       "    }\n",
       "\n",
       "    .dataframe thead th {\n",
       "        text-align: right;\n",
       "    }\n",
       "</style>\n",
       "<table border=\"1\" class=\"dataframe\">\n",
       "  <thead>\n",
       "    <tr style=\"text-align: right;\">\n",
       "      <th></th>\n",
       "      <th>tweet_id</th>\n",
       "      <th>favorite_count</th>\n",
       "      <th>retweet_count</th>\n",
       "    </tr>\n",
       "  </thead>\n",
       "  <tbody>\n",
       "    <tr>\n",
       "      <th>1425</th>\n",
       "      <td>696744641916489729</td>\n",
       "      <td>2151</td>\n",
       "      <td>990</td>\n",
       "    </tr>\n",
       "    <tr>\n",
       "      <th>1283</th>\n",
       "      <td>707629649552134146</td>\n",
       "      <td>2678</td>\n",
       "      <td>930</td>\n",
       "    </tr>\n",
       "    <tr>\n",
       "      <th>1386</th>\n",
       "      <td>699370870310113280</td>\n",
       "      <td>1958</td>\n",
       "      <td>461</td>\n",
       "    </tr>\n",
       "    <tr>\n",
       "      <th>484</th>\n",
       "      <td>813142292504645637</td>\n",
       "      <td>8959</td>\n",
       "      <td>2561</td>\n",
       "    </tr>\n",
       "    <tr>\n",
       "      <th>1195</th>\n",
       "      <td>715220193576927233</td>\n",
       "      <td>2507</td>\n",
       "      <td>687</td>\n",
       "    </tr>\n",
       "    <tr>\n",
       "      <th>1679</th>\n",
       "      <td>681231109724700672</td>\n",
       "      <td>2499</td>\n",
       "      <td>514</td>\n",
       "    </tr>\n",
       "    <tr>\n",
       "      <th>1181</th>\n",
       "      <td>716791146589110272</td>\n",
       "      <td>6211</td>\n",
       "      <td>1511</td>\n",
       "    </tr>\n",
       "    <tr>\n",
       "      <th>1728</th>\n",
       "      <td>679111216690831360</td>\n",
       "      <td>6176</td>\n",
       "      <td>2706</td>\n",
       "    </tr>\n",
       "  </tbody>\n",
       "</table>\n",
       "</div>"
      ],
      "text/plain": [
       "                tweet_id  favorite_count  retweet_count\n",
       "1425  696744641916489729            2151            990\n",
       "1283  707629649552134146            2678            930\n",
       "1386  699370870310113280            1958            461\n",
       "484   813142292504645637            8959           2561\n",
       "1195  715220193576927233            2507            687\n",
       "1679  681231109724700672            2499            514\n",
       "1181  716791146589110272            6211           1511\n",
       "1728  679111216690831360            6176           2706"
      ]
     },
     "execution_count": 10,
     "metadata": {},
     "output_type": "execute_result"
    }
   ],
   "source": [
    "# Display the twitter_add table\n",
    "twitter_add.sample(8)"
   ]
  },
  {
   "cell_type": "code",
   "execution_count": 11,
   "metadata": {},
   "outputs": [
    {
     "name": "stdout",
     "output_type": "stream",
     "text": [
      "<class 'pandas.core.frame.DataFrame'>\n",
      "RangeIndex: 2356 entries, 0 to 2355\n",
      "Data columns (total 17 columns):\n",
      "tweet_id                      2356 non-null int64\n",
      "in_reply_to_status_id         78 non-null float64\n",
      "in_reply_to_user_id           78 non-null float64\n",
      "timestamp                     2356 non-null object\n",
      "source                        2356 non-null object\n",
      "text                          2356 non-null object\n",
      "retweeted_status_id           181 non-null float64\n",
      "retweeted_status_user_id      181 non-null float64\n",
      "retweeted_status_timestamp    181 non-null object\n",
      "expanded_urls                 2297 non-null object\n",
      "rating_numerator              2356 non-null int64\n",
      "rating_denominator            2356 non-null int64\n",
      "name                          2356 non-null object\n",
      "doggo                         2356 non-null object\n",
      "floofer                       2356 non-null object\n",
      "pupper                        2356 non-null object\n",
      "puppo                         2356 non-null object\n",
      "dtypes: float64(4), int64(3), object(10)\n",
      "memory usage: 313.0+ KB\n"
     ]
    }
   ],
   "source": [
    "twitter.info()"
   ]
  },
  {
   "cell_type": "code",
   "execution_count": 12,
   "metadata": {},
   "outputs": [
    {
     "name": "stdout",
     "output_type": "stream",
     "text": [
      "<class 'pandas.core.frame.DataFrame'>\n",
      "RangeIndex: 2075 entries, 0 to 2074\n",
      "Data columns (total 12 columns):\n",
      "tweet_id    2075 non-null int64\n",
      "jpg_url     2075 non-null object\n",
      "img_num     2075 non-null int64\n",
      "p1          2075 non-null object\n",
      "p1_conf     2075 non-null float64\n",
      "p1_dog      2075 non-null bool\n",
      "p2          2075 non-null object\n",
      "p2_conf     2075 non-null float64\n",
      "p2_dog      2075 non-null bool\n",
      "p3          2075 non-null object\n",
      "p3_conf     2075 non-null float64\n",
      "p3_dog      2075 non-null bool\n",
      "dtypes: bool(3), float64(3), int64(2), object(4)\n",
      "memory usage: 152.1+ KB\n"
     ]
    }
   ],
   "source": [
    "twitter_predictions.info()"
   ]
  },
  {
   "cell_type": "code",
   "execution_count": 13,
   "metadata": {},
   "outputs": [
    {
     "name": "stdout",
     "output_type": "stream",
     "text": [
      "<class 'pandas.core.frame.DataFrame'>\n",
      "RangeIndex: 2336 entries, 0 to 2335\n",
      "Data columns (total 3 columns):\n",
      "tweet_id          2336 non-null int64\n",
      "favorite_count    2336 non-null int64\n",
      "retweet_count     2336 non-null int64\n",
      "dtypes: int64(3)\n",
      "memory usage: 54.8 KB\n"
     ]
    }
   ],
   "source": [
    "twitter_add.info()"
   ]
  },
  {
   "cell_type": "code",
   "execution_count": 14,
   "metadata": {},
   "outputs": [
    {
     "data": {
      "text/plain": [
       "12      558\n",
       "11      464\n",
       "10      461\n",
       "13      351\n",
       "9       158\n",
       "8       102\n",
       "7        55\n",
       "14       54\n",
       "5        37\n",
       "6        32\n",
       "3        19\n",
       "4        17\n",
       "1         9\n",
       "2         9\n",
       "420       2\n",
       "0         2\n",
       "15        2\n",
       "75        2\n",
       "80        1\n",
       "20        1\n",
       "24        1\n",
       "26        1\n",
       "44        1\n",
       "50        1\n",
       "60        1\n",
       "165       1\n",
       "84        1\n",
       "88        1\n",
       "144       1\n",
       "182       1\n",
       "143       1\n",
       "666       1\n",
       "960       1\n",
       "1776      1\n",
       "17        1\n",
       "27        1\n",
       "45        1\n",
       "99        1\n",
       "121       1\n",
       "204       1\n",
       "Name: rating_numerator, dtype: int64"
      ]
     },
     "execution_count": 14,
     "metadata": {},
     "output_type": "execute_result"
    }
   ],
   "source": [
    "# Count values of rating_numerator\n",
    "twitter.rating_numerator.value_counts()"
   ]
  },
  {
   "cell_type": "code",
   "execution_count": 15,
   "metadata": {},
   "outputs": [
    {
     "data": {
      "text/plain": [
       "10     2333\n",
       "11        3\n",
       "50        3\n",
       "80        2\n",
       "20        2\n",
       "2         1\n",
       "16        1\n",
       "40        1\n",
       "70        1\n",
       "15        1\n",
       "90        1\n",
       "110       1\n",
       "120       1\n",
       "130       1\n",
       "150       1\n",
       "170       1\n",
       "7         1\n",
       "0         1\n",
       "Name: rating_denominator, dtype: int64"
      ]
     },
     "execution_count": 15,
     "metadata": {},
     "output_type": "execute_result"
    }
   ],
   "source": [
    "# Count values of rating_denominator\n",
    "twitter.rating_denominator.value_counts()"
   ]
  },
  {
   "cell_type": "code",
   "execution_count": 16,
   "metadata": {},
   "outputs": [
    {
     "data": {
      "text/plain": [
       "None          745\n",
       "a              55\n",
       "Charlie        12\n",
       "Oliver         11\n",
       "Lucy           11\n",
       "Cooper         11\n",
       "Penny          10\n",
       "Lola           10\n",
       "Tucker         10\n",
       "Winston         9\n",
       "Bo              9\n",
       "the             8\n",
       "Sadie           8\n",
       "an              7\n",
       "Daisy           7\n",
       "Bailey          7\n",
       "Buddy           7\n",
       "Toby            7\n",
       "Koda            6\n",
       "Rusty           6\n",
       "Scout           6\n",
       "Leo             6\n",
       "Milo            6\n",
       "Oscar           6\n",
       "Jax             6\n",
       "Jack            6\n",
       "Bella           6\n",
       "Stanley         6\n",
       "Dave            6\n",
       "George          5\n",
       "             ... \n",
       "Akumi           1\n",
       "Marlee          1\n",
       "Maude           1\n",
       "Jebberson       1\n",
       "Holly           1\n",
       "Kane            1\n",
       "Josep           1\n",
       "Petrick         1\n",
       "Tedders         1\n",
       "Mimosa          1\n",
       "Brian           1\n",
       "Dot             1\n",
       "Chaz            1\n",
       "Swagger         1\n",
       "Charl           1\n",
       "O               1\n",
       "Doobert         1\n",
       "Durg            1\n",
       "Cermet          1\n",
       "Ralf            1\n",
       "Patch           1\n",
       "officially      1\n",
       "Sky             1\n",
       "Cupid           1\n",
       "Emmie           1\n",
       "Cheryl          1\n",
       "Chevy           1\n",
       "Pupcasso        1\n",
       "Biden           1\n",
       "Jerome          1\n",
       "Name: name, Length: 957, dtype: int64"
      ]
     },
     "execution_count": 16,
     "metadata": {},
     "output_type": "execute_result"
    }
   ],
   "source": [
    "# Count name of values\n",
    "twitter.name.value_counts()"
   ]
  },
  {
   "cell_type": "markdown",
   "metadata": {},
   "source": [
    "#### Quality\n",
    "\n",
    "- Table `twitter` contains useless data about retweets.\n",
    "- The timestamp column in the`twitter` table is an object, not a datetime.\n",
    "- The twitter table contains 2356 rows, whereas twitter_predictions table contains 2075.\n",
    "- Missing values in the `twitter` table: retweeted_status_id, retweeted_status_user_id, retweeted_status_timestamp.\n",
    "- The tweet_id is an integer, not an object.\n",
    "- Table the `twitter` contains useless columns, i.e. in_reply_to_status_id, in_reply_to_user_id.\n",
    "- Some values of rating_numerator in the `twitter` table are inaccurate. \n",
    "- Some values of rating_denominator in the `twitter` table are not equal to 10."
   ]
  },
  {
   "cell_type": "markdown",
   "metadata": {},
   "source": [
    "#### Tidiness\n",
    "- Information about one type of observational unit (tweets) is spread across three different dataframes. So these three dataframes should be merged as they are part of the same observational unit.\n",
    "- Doggo, floofer, pupper, puppo columns in twitter table should be one variable that identifies the stage of dog.\n"
   ]
  },
  {
   "cell_type": "markdown",
   "metadata": {},
   "source": [
    "## Clean"
   ]
  },
  {
   "cell_type": "code",
   "execution_count": 17,
   "metadata": {},
   "outputs": [],
   "source": [
    "# Make a copy of twitter table\n",
    "twitter_clean = twitter.copy()\n",
    "twitter_pred_clean = twitter_predictions.copy()\n",
    "twitter_add_clean = twitter_add.copy()\n"
   ]
  },
  {
   "cell_type": "markdown",
   "metadata": {},
   "source": [
    "### Define"
   ]
  },
  {
   "cell_type": "markdown",
   "metadata": {},
   "source": [
    "Delete rows with retweets, keep rows which did not contain any information in retweeted_status_id column."
   ]
  },
  {
   "cell_type": "markdown",
   "metadata": {},
   "source": [
    "##### Code"
   ]
  },
  {
   "cell_type": "code",
   "execution_count": 18,
   "metadata": {},
   "outputs": [],
   "source": [
    "# delete rows those contain data in retweeted_status_id\n",
    "twitter_clean = twitter_clean[twitter_clean.retweeted_status_id.isnull()]\n"
   ]
  },
  {
   "cell_type": "markdown",
   "metadata": {},
   "source": [
    "##### Test"
   ]
  },
  {
   "cell_type": "code",
   "execution_count": 19,
   "metadata": {},
   "outputs": [
    {
     "name": "stdout",
     "output_type": "stream",
     "text": [
      "<class 'pandas.core.frame.DataFrame'>\n",
      "Int64Index: 2175 entries, 0 to 2355\n",
      "Data columns (total 17 columns):\n",
      "tweet_id                      2175 non-null int64\n",
      "in_reply_to_status_id         78 non-null float64\n",
      "in_reply_to_user_id           78 non-null float64\n",
      "timestamp                     2175 non-null object\n",
      "source                        2175 non-null object\n",
      "text                          2175 non-null object\n",
      "retweeted_status_id           0 non-null float64\n",
      "retweeted_status_user_id      0 non-null float64\n",
      "retweeted_status_timestamp    0 non-null object\n",
      "expanded_urls                 2117 non-null object\n",
      "rating_numerator              2175 non-null int64\n",
      "rating_denominator            2175 non-null int64\n",
      "name                          2175 non-null object\n",
      "doggo                         2175 non-null object\n",
      "floofer                       2175 non-null object\n",
      "pupper                        2175 non-null object\n",
      "puppo                         2175 non-null object\n",
      "dtypes: float64(4), int64(3), object(10)\n",
      "memory usage: 305.9+ KB\n"
     ]
    }
   ],
   "source": [
    "twitter_clean.info()"
   ]
  },
  {
   "cell_type": "markdown",
   "metadata": {},
   "source": [
    "### Define"
   ]
  },
  {
   "cell_type": "markdown",
   "metadata": {},
   "source": [
    "Change type of data for timestamp column in twitter table to  datetime object.\n"
   ]
  },
  {
   "cell_type": "markdown",
   "metadata": {},
   "source": [
    "##### Code"
   ]
  },
  {
   "cell_type": "code",
   "execution_count": 20,
   "metadata": {},
   "outputs": [],
   "source": [
    "#change type od timestamp\n",
    "twitter_clean['timestamp'] = pd.to_datetime(twitter_clean['timestamp'])\n"
   ]
  },
  {
   "cell_type": "markdown",
   "metadata": {},
   "source": [
    "###### Test"
   ]
  },
  {
   "cell_type": "code",
   "execution_count": 21,
   "metadata": {},
   "outputs": [
    {
     "name": "stdout",
     "output_type": "stream",
     "text": [
      "<class 'pandas.core.frame.DataFrame'>\n",
      "Int64Index: 2175 entries, 0 to 2355\n",
      "Data columns (total 17 columns):\n",
      "tweet_id                      2175 non-null int64\n",
      "in_reply_to_status_id         78 non-null float64\n",
      "in_reply_to_user_id           78 non-null float64\n",
      "timestamp                     2175 non-null datetime64[ns]\n",
      "source                        2175 non-null object\n",
      "text                          2175 non-null object\n",
      "retweeted_status_id           0 non-null float64\n",
      "retweeted_status_user_id      0 non-null float64\n",
      "retweeted_status_timestamp    0 non-null object\n",
      "expanded_urls                 2117 non-null object\n",
      "rating_numerator              2175 non-null int64\n",
      "rating_denominator            2175 non-null int64\n",
      "name                          2175 non-null object\n",
      "doggo                         2175 non-null object\n",
      "floofer                       2175 non-null object\n",
      "pupper                        2175 non-null object\n",
      "puppo                         2175 non-null object\n",
      "dtypes: datetime64[ns](1), float64(4), int64(3), object(9)\n",
      "memory usage: 305.9+ KB\n"
     ]
    }
   ],
   "source": [
    "twitter_clean.info()"
   ]
  },
  {
   "cell_type": "markdown",
   "metadata": {},
   "source": [
    "### Define"
   ]
  },
  {
   "cell_type": "markdown",
   "metadata": {},
   "source": [
    "Keep only those records in twitter_clean table whose id exists in twitter_predictions table"
   ]
  },
  {
   "cell_type": "markdown",
   "metadata": {},
   "source": [
    "##### Code"
   ]
  },
  {
   "cell_type": "code",
   "execution_count": 22,
   "metadata": {},
   "outputs": [],
   "source": [
    "# remove useless records\n",
    "twitter_clean = twitter_clean[twitter_clean.tweet_id.isin(twitter_pred_clean.tweet_id)]\n"
   ]
  },
  {
   "cell_type": "markdown",
   "metadata": {},
   "source": [
    "###### Test"
   ]
  },
  {
   "cell_type": "code",
   "execution_count": 23,
   "metadata": {},
   "outputs": [
    {
     "data": {
      "text/plain": [
       "0"
      ]
     },
     "execution_count": 23,
     "metadata": {},
     "output_type": "execute_result"
    }
   ],
   "source": [
    "len(twitter_clean[~twitter_clean.tweet_id.isin(twitter_pred_clean.tweet_id)])\n"
   ]
  },
  {
   "cell_type": "markdown",
   "metadata": {},
   "source": [
    "### Define\n",
    "\n",
    "Change data type for tweet_id from an integer to object."
   ]
  },
  {
   "cell_type": "markdown",
   "metadata": {},
   "source": [
    "##### Code"
   ]
  },
  {
   "cell_type": "code",
   "execution_count": 24,
   "metadata": {},
   "outputs": [],
   "source": [
    "#change tweet_id data type \n",
    "twitter_clean['tweet_id'] = twitter_clean['tweet_id'].astype(str)\n",
    "twitter_add_clean['tweet_id'] = twitter_add_clean['tweet_id'].astype(str)\n",
    "twitter_pred_clean['tweet_id'] = twitter_pred_clean['tweet_id'].astype(str)"
   ]
  },
  {
   "cell_type": "markdown",
   "metadata": {},
   "source": [
    "###### Test"
   ]
  },
  {
   "cell_type": "code",
   "execution_count": 25,
   "metadata": {},
   "outputs": [
    {
     "name": "stdout",
     "output_type": "stream",
     "text": [
      "<class 'pandas.core.frame.DataFrame'>\n",
      "Int64Index: 1994 entries, 0 to 2355\n",
      "Data columns (total 17 columns):\n",
      "tweet_id                      1994 non-null object\n",
      "in_reply_to_status_id         23 non-null float64\n",
      "in_reply_to_user_id           23 non-null float64\n",
      "timestamp                     1994 non-null datetime64[ns]\n",
      "source                        1994 non-null object\n",
      "text                          1994 non-null object\n",
      "retweeted_status_id           0 non-null float64\n",
      "retweeted_status_user_id      0 non-null float64\n",
      "retweeted_status_timestamp    0 non-null object\n",
      "expanded_urls                 1994 non-null object\n",
      "rating_numerator              1994 non-null int64\n",
      "rating_denominator            1994 non-null int64\n",
      "name                          1994 non-null object\n",
      "doggo                         1994 non-null object\n",
      "floofer                       1994 non-null object\n",
      "pupper                        1994 non-null object\n",
      "puppo                         1994 non-null object\n",
      "dtypes: datetime64[ns](1), float64(4), int64(2), object(10)\n",
      "memory usage: 280.4+ KB\n",
      "<class 'pandas.core.frame.DataFrame'>\n",
      "RangeIndex: 2336 entries, 0 to 2335\n",
      "Data columns (total 3 columns):\n",
      "tweet_id          2336 non-null object\n",
      "favorite_count    2336 non-null int64\n",
      "retweet_count     2336 non-null int64\n",
      "dtypes: int64(2), object(1)\n",
      "memory usage: 54.8+ KB\n",
      "<class 'pandas.core.frame.DataFrame'>\n",
      "RangeIndex: 2075 entries, 0 to 2074\n",
      "Data columns (total 12 columns):\n",
      "tweet_id    2075 non-null object\n",
      "jpg_url     2075 non-null object\n",
      "img_num     2075 non-null int64\n",
      "p1          2075 non-null object\n",
      "p1_conf     2075 non-null float64\n",
      "p1_dog      2075 non-null bool\n",
      "p2          2075 non-null object\n",
      "p2_conf     2075 non-null float64\n",
      "p2_dog      2075 non-null bool\n",
      "p3          2075 non-null object\n",
      "p3_conf     2075 non-null float64\n",
      "p3_dog      2075 non-null bool\n",
      "dtypes: bool(3), float64(3), int64(1), object(5)\n",
      "memory usage: 152.1+ KB\n"
     ]
    }
   ],
   "source": [
    "twitter_clean.info()\n",
    "twitter_add_clean.info()\n",
    "twitter_pred_clean.info()"
   ]
  },
  {
   "cell_type": "markdown",
   "metadata": {},
   "source": [
    "### Define"
   ]
  },
  {
   "cell_type": "markdown",
   "metadata": {},
   "source": [
    "Delete useless columns in `twitter` table: in_reply_to_status_id and in_reply_to_user_id."
   ]
  },
  {
   "cell_type": "markdown",
   "metadata": {},
   "source": [
    "##### Code"
   ]
  },
  {
   "cell_type": "code",
   "execution_count": 26,
   "metadata": {},
   "outputs": [],
   "source": [
    "# drop some columns\n",
    "twitter_clean.drop(['in_reply_to_status_id', 'in_reply_to_user_id'], axis=1, inplace=True)\n"
   ]
  },
  {
   "cell_type": "markdown",
   "metadata": {},
   "source": [
    "###### Test"
   ]
  },
  {
   "cell_type": "code",
   "execution_count": 27,
   "metadata": {},
   "outputs": [
    {
     "data": {
      "text/html": [
       "<div>\n",
       "<style scoped>\n",
       "    .dataframe tbody tr th:only-of-type {\n",
       "        vertical-align: middle;\n",
       "    }\n",
       "\n",
       "    .dataframe tbody tr th {\n",
       "        vertical-align: top;\n",
       "    }\n",
       "\n",
       "    .dataframe thead th {\n",
       "        text-align: right;\n",
       "    }\n",
       "</style>\n",
       "<table border=\"1\" class=\"dataframe\">\n",
       "  <thead>\n",
       "    <tr style=\"text-align: right;\">\n",
       "      <th></th>\n",
       "      <th>tweet_id</th>\n",
       "      <th>timestamp</th>\n",
       "      <th>source</th>\n",
       "      <th>text</th>\n",
       "      <th>retweeted_status_id</th>\n",
       "      <th>retweeted_status_user_id</th>\n",
       "      <th>retweeted_status_timestamp</th>\n",
       "      <th>expanded_urls</th>\n",
       "      <th>rating_numerator</th>\n",
       "      <th>rating_denominator</th>\n",
       "      <th>name</th>\n",
       "      <th>doggo</th>\n",
       "      <th>floofer</th>\n",
       "      <th>pupper</th>\n",
       "      <th>puppo</th>\n",
       "    </tr>\n",
       "  </thead>\n",
       "  <tbody>\n",
       "    <tr>\n",
       "      <th>2272</th>\n",
       "      <td>667491009379606528</td>\n",
       "      <td>2015-11-19 23:53:52</td>\n",
       "      <td>&lt;a href=\"http://twitter.com\" rel=\"nofollow\"&gt;Tw...</td>\n",
       "      <td>Two dogs in this one. Both are rare Jujitsu Py...</td>\n",
       "      <td>NaN</td>\n",
       "      <td>NaN</td>\n",
       "      <td>NaN</td>\n",
       "      <td>https://twitter.com/dog_rates/status/667491009...</td>\n",
       "      <td>7</td>\n",
       "      <td>10</td>\n",
       "      <td>None</td>\n",
       "      <td>None</td>\n",
       "      <td>None</td>\n",
       "      <td>None</td>\n",
       "      <td>None</td>\n",
       "    </tr>\n",
       "  </tbody>\n",
       "</table>\n",
       "</div>"
      ],
      "text/plain": [
       "                tweet_id           timestamp  \\\n",
       "2272  667491009379606528 2015-11-19 23:53:52   \n",
       "\n",
       "                                                 source  \\\n",
       "2272  <a href=\"http://twitter.com\" rel=\"nofollow\">Tw...   \n",
       "\n",
       "                                                   text  retweeted_status_id  \\\n",
       "2272  Two dogs in this one. Both are rare Jujitsu Py...                  NaN   \n",
       "\n",
       "      retweeted_status_user_id retweeted_status_timestamp  \\\n",
       "2272                       NaN                        NaN   \n",
       "\n",
       "                                          expanded_urls  rating_numerator  \\\n",
       "2272  https://twitter.com/dog_rates/status/667491009...                 7   \n",
       "\n",
       "      rating_denominator  name doggo floofer pupper puppo  \n",
       "2272                  10  None  None    None   None  None  "
      ]
     },
     "execution_count": 27,
     "metadata": {},
     "output_type": "execute_result"
    }
   ],
   "source": [
    "twitter_clean.sample(1)"
   ]
  },
  {
   "cell_type": "markdown",
   "metadata": {},
   "source": [
    "### Define"
   ]
  },
  {
   "cell_type": "markdown",
   "metadata": {},
   "source": [
    "Find text values for rating_numerator those contain decimals values. Correct rating_numerator values for these cases."
   ]
  },
  {
   "cell_type": "markdown",
   "metadata": {},
   "source": [
    "##### Code"
   ]
  },
  {
   "cell_type": "code",
   "execution_count": 28,
   "metadata": {},
   "outputs": [
    {
     "data": {
      "text/plain": [
       "['This is Bella. She hopes her smile made you smile. If not, she is also offering you her favorite monkey. 13.5/10 https://t.co/qjrljjt948',\n",
       " \"This is Logan, the Chow who lived. He solemnly swears he's up to lots of good. H*ckin magical af 9.75/10 https://t.co/yBO5wuqaPS\",\n",
       " \"This is Sophie. She's a Jubilant Bush Pupper. Super h*ckin rare. Appears at random just to smile at the locals. 11.27/10 would smile back https://t.co/QFaUiIHxHq\",\n",
       " 'Here we have uncovered an entire battalion of holiday puppers. Average of 11.26/10 https://t.co/eNm2S6p9BD']"
      ]
     },
     "execution_count": 28,
     "metadata": {},
     "output_type": "execute_result"
    }
   ],
   "source": [
    "# find decimals values\n",
    "rating_text = []\n",
    "rating_index = []\n",
    "rating_decimals = []\n",
    "\n",
    "for i, text in twitter_clean['text'].iteritems():\n",
    "    if bool(re.search('\\d+\\.\\d+\\/\\d+', text)):\n",
    "        rating_text.append(text)\n",
    "        rating_index.append(i)\n",
    "        rating_decimals.append(re.search('\\d+\\.\\d+', text).group())\n",
    "\n",
    "rating_text"
   ]
  },
  {
   "cell_type": "code",
   "execution_count": 29,
   "metadata": {},
   "outputs": [],
   "source": [
    "# Correct rating_numerator values\n",
    "for i in range(0,4):\n",
    "    twitter_clean.loc[rating_index[i],'rating_numerator'] = float(rating_decimals[i])\n"
   ]
  },
  {
   "cell_type": "markdown",
   "metadata": {},
   "source": [
    "###### Test"
   ]
  },
  {
   "cell_type": "code",
   "execution_count": 30,
   "metadata": {},
   "outputs": [
    {
     "name": "stdout",
     "output_type": "stream",
     "text": [
      "13.5\n",
      "9.75\n",
      "11.27\n",
      "11.26\n"
     ]
    }
   ],
   "source": [
    "for i in range(0,4):\n",
    "    print( twitter_clean.loc[rating_index[i],'rating_numerator'])"
   ]
  },
  {
   "cell_type": "markdown",
   "metadata": {},
   "source": [
    "### Define"
   ]
  },
  {
   "cell_type": "markdown",
   "metadata": {},
   "source": [
    "Some values of rating_denominator are unstandardized, not equal 10. Because of this, there are difficulties in assessing the rating. To avoid it we will create a new variable rating. The variable is equal rating_numerator / rating_denominator. Also, we delete unnesesary columns rating_numerator and rating_denominator."
   ]
  },
  {
   "cell_type": "markdown",
   "metadata": {},
   "source": [
    "##### Code"
   ]
  },
  {
   "cell_type": "code",
   "execution_count": 31,
   "metadata": {},
   "outputs": [],
   "source": [
    "# create new variable rating\n",
    "twitter_clean['rating'] = twitter_clean['rating_numerator'] / twitter_clean['rating_denominator']"
   ]
  },
  {
   "cell_type": "code",
   "execution_count": 32,
   "metadata": {},
   "outputs": [],
   "source": [
    "# drop useless columns\n",
    "twitter_clean.drop(['rating_numerator', 'rating_denominator'], axis=1, inplace=True)\n"
   ]
  },
  {
   "cell_type": "markdown",
   "metadata": {},
   "source": [
    "###### Test"
   ]
  },
  {
   "cell_type": "code",
   "execution_count": 33,
   "metadata": {},
   "outputs": [
    {
     "data": {
      "text/plain": [
       "1.200000      454\n",
       "1.000000      421\n",
       "1.100000      402\n",
       "1.300000      261\n",
       "0.900000      151\n",
       "0.800000       95\n",
       "0.700000       51\n",
       "1.400000       35\n",
       "0.500000       33\n",
       "0.600000       32\n",
       "0.300000       19\n",
       "0.400000       15\n",
       "0.200000       10\n",
       "0.100000        4\n",
       "0.000000        2\n",
       "1.127000        1\n",
       "1.350000        1\n",
       "3.428571        1\n",
       "0.636364        1\n",
       "0.818182        1\n",
       "1.126000        1\n",
       "0.975000        1\n",
       "42.000000       1\n",
       "177.600000      1\n",
       "Name: rating, dtype: int64"
      ]
     },
     "execution_count": 33,
     "metadata": {},
     "output_type": "execute_result"
    }
   ],
   "source": [
    "twitter_clean['rating'].value_counts()"
   ]
  },
  {
   "cell_type": "markdown",
   "metadata": {},
   "source": [
    "##### Define"
   ]
  },
  {
   "cell_type": "markdown",
   "metadata": {},
   "source": [
    "Delete useless columns about retweets: in_reply_to_status_id and in_reply_to_user_id."
   ]
  },
  {
   "cell_type": "markdown",
   "metadata": {},
   "source": [
    "##### Code"
   ]
  },
  {
   "cell_type": "code",
   "execution_count": 34,
   "metadata": {},
   "outputs": [],
   "source": [
    "# drop some columns\n",
    "twitter_clean.drop(['retweeted_status_id', 'retweeted_status_user_id', 'retweeted_status_timestamp'], axis=1, inplace=True)\n"
   ]
  },
  {
   "cell_type": "markdown",
   "metadata": {},
   "source": [
    "###### Test"
   ]
  },
  {
   "cell_type": "code",
   "execution_count": 35,
   "metadata": {
    "scrolled": true
   },
   "outputs": [
    {
     "data": {
      "text/html": [
       "<div>\n",
       "<style scoped>\n",
       "    .dataframe tbody tr th:only-of-type {\n",
       "        vertical-align: middle;\n",
       "    }\n",
       "\n",
       "    .dataframe tbody tr th {\n",
       "        vertical-align: top;\n",
       "    }\n",
       "\n",
       "    .dataframe thead th {\n",
       "        text-align: right;\n",
       "    }\n",
       "</style>\n",
       "<table border=\"1\" class=\"dataframe\">\n",
       "  <thead>\n",
       "    <tr style=\"text-align: right;\">\n",
       "      <th></th>\n",
       "      <th>tweet_id</th>\n",
       "      <th>timestamp</th>\n",
       "      <th>source</th>\n",
       "      <th>text</th>\n",
       "      <th>expanded_urls</th>\n",
       "      <th>name</th>\n",
       "      <th>doggo</th>\n",
       "      <th>floofer</th>\n",
       "      <th>pupper</th>\n",
       "      <th>puppo</th>\n",
       "      <th>rating</th>\n",
       "    </tr>\n",
       "  </thead>\n",
       "  <tbody>\n",
       "    <tr>\n",
       "      <th>275</th>\n",
       "      <td>840696689258311684</td>\n",
       "      <td>2017-03-11 22:51:24</td>\n",
       "      <td>&lt;a href=\"http://twitter.com/download/iphone\" r...</td>\n",
       "      <td>I didn't even have to intervene. Took him 4 mi...</td>\n",
       "      <td>https://twitter.com/dog_rates/status/840696689...</td>\n",
       "      <td>None</td>\n",
       "      <td>None</td>\n",
       "      <td>None</td>\n",
       "      <td>None</td>\n",
       "      <td>None</td>\n",
       "      <td>1.0</td>\n",
       "    </tr>\n",
       "  </tbody>\n",
       "</table>\n",
       "</div>"
      ],
      "text/plain": [
       "               tweet_id           timestamp  \\\n",
       "275  840696689258311684 2017-03-11 22:51:24   \n",
       "\n",
       "                                                source  \\\n",
       "275  <a href=\"http://twitter.com/download/iphone\" r...   \n",
       "\n",
       "                                                  text  \\\n",
       "275  I didn't even have to intervene. Took him 4 mi...   \n",
       "\n",
       "                                         expanded_urls  name doggo floofer  \\\n",
       "275  https://twitter.com/dog_rates/status/840696689...  None  None    None   \n",
       "\n",
       "    pupper puppo  rating  \n",
       "275   None  None     1.0  "
      ]
     },
     "execution_count": 35,
     "metadata": {},
     "output_type": "execute_result"
    }
   ],
   "source": [
    "twitter_clean.sample(1)"
   ]
  },
  {
   "cell_type": "markdown",
   "metadata": {},
   "source": [
    "##### Define"
   ]
  },
  {
   "cell_type": "markdown",
   "metadata": {},
   "source": [
    "Doggo, floofer, pupper, puppo columns in twitter_archive_enhanced.csv should be combined into a single column as this is one variable that identify stage of dog."
   ]
  },
  {
   "cell_type": "markdown",
   "metadata": {},
   "source": [
    "##### Code"
   ]
  },
  {
   "cell_type": "code",
   "execution_count": 36,
   "metadata": {},
   "outputs": [],
   "source": [
    "# combine four columns into a single column\n",
    "twitter_clean['stage'] = twitter_clean['text'].str.extract('(doggo|floofer|pupper|puppo)')\n"
   ]
  },
  {
   "cell_type": "code",
   "execution_count": 37,
   "metadata": {},
   "outputs": [],
   "source": [
    "twitter_clean.drop(['doggo', 'floofer', 'pupper', 'puppo'], axis=1, inplace=True)\n"
   ]
  },
  {
   "cell_type": "markdown",
   "metadata": {},
   "source": [
    "###### Test"
   ]
  },
  {
   "cell_type": "code",
   "execution_count": 38,
   "metadata": {},
   "outputs": [
    {
     "data": {
      "text/html": [
       "<div>\n",
       "<style scoped>\n",
       "    .dataframe tbody tr th:only-of-type {\n",
       "        vertical-align: middle;\n",
       "    }\n",
       "\n",
       "    .dataframe tbody tr th {\n",
       "        vertical-align: top;\n",
       "    }\n",
       "\n",
       "    .dataframe thead th {\n",
       "        text-align: right;\n",
       "    }\n",
       "</style>\n",
       "<table border=\"1\" class=\"dataframe\">\n",
       "  <thead>\n",
       "    <tr style=\"text-align: right;\">\n",
       "      <th></th>\n",
       "      <th>tweet_id</th>\n",
       "      <th>timestamp</th>\n",
       "      <th>source</th>\n",
       "      <th>text</th>\n",
       "      <th>expanded_urls</th>\n",
       "      <th>name</th>\n",
       "      <th>rating</th>\n",
       "      <th>stage</th>\n",
       "    </tr>\n",
       "  </thead>\n",
       "  <tbody>\n",
       "    <tr>\n",
       "      <th>62</th>\n",
       "      <td>880095782870896641</td>\n",
       "      <td>2017-06-28 16:09:20</td>\n",
       "      <td>&lt;a href=\"http://twitter.com/download/iphone\" r...</td>\n",
       "      <td>Please don't send in photos without dogs in th...</td>\n",
       "      <td>https://twitter.com/dog_rates/status/880095782...</td>\n",
       "      <td>None</td>\n",
       "      <td>1.1</td>\n",
       "      <td>NaN</td>\n",
       "    </tr>\n",
       "    <tr>\n",
       "      <th>1541</th>\n",
       "      <td>689623661272240129</td>\n",
       "      <td>2016-01-20 01:41:08</td>\n",
       "      <td>&lt;a href=\"http://twitter.com/download/iphone\" r...</td>\n",
       "      <td>This is Lucy. She's terrified of the stuffed b...</td>\n",
       "      <td>https://twitter.com/dog_rates/status/689623661...</td>\n",
       "      <td>Lucy</td>\n",
       "      <td>1.0</td>\n",
       "      <td>pupper</td>\n",
       "    </tr>\n",
       "    <tr>\n",
       "      <th>1499</th>\n",
       "      <td>692187005137076224</td>\n",
       "      <td>2016-01-27 03:26:56</td>\n",
       "      <td>&lt;a href=\"http://twitter.com/download/iphone\" r...</td>\n",
       "      <td>This is a rare Arctic Wubberfloof. Unamused by...</td>\n",
       "      <td>https://twitter.com/dog_rates/status/692187005...</td>\n",
       "      <td>a</td>\n",
       "      <td>1.2</td>\n",
       "      <td>NaN</td>\n",
       "    </tr>\n",
       "    <tr>\n",
       "      <th>563</th>\n",
       "      <td>802572683846291456</td>\n",
       "      <td>2016-11-26 18:00:13</td>\n",
       "      <td>&lt;a href=\"http://twitter.com/download/iphone\" r...</td>\n",
       "      <td>This is Winnie. She's h*ckin ferocious. Dandel...</td>\n",
       "      <td>https://twitter.com/dog_rates/status/802572683...</td>\n",
       "      <td>Winnie</td>\n",
       "      <td>1.2</td>\n",
       "      <td>NaN</td>\n",
       "    </tr>\n",
       "    <tr>\n",
       "      <th>1500</th>\n",
       "      <td>692158366030913536</td>\n",
       "      <td>2016-01-27 01:33:08</td>\n",
       "      <td>&lt;a href=\"http://twitter.com/download/iphone\" r...</td>\n",
       "      <td>This is Edgar. He's a Sassafras Puggleflash. N...</td>\n",
       "      <td>https://twitter.com/dog_rates/status/692158366...</td>\n",
       "      <td>Edgar</td>\n",
       "      <td>1.0</td>\n",
       "      <td>NaN</td>\n",
       "    </tr>\n",
       "    <tr>\n",
       "      <th>76</th>\n",
       "      <td>878057613040115712</td>\n",
       "      <td>2017-06-23 01:10:23</td>\n",
       "      <td>&lt;a href=\"http://twitter.com/download/iphone\" r...</td>\n",
       "      <td>This is Emmy. She was adopted today. Massive r...</td>\n",
       "      <td>https://twitter.com/dog_rates/status/878057613...</td>\n",
       "      <td>Emmy</td>\n",
       "      <td>1.4</td>\n",
       "      <td>NaN</td>\n",
       "    </tr>\n",
       "    <tr>\n",
       "      <th>1684</th>\n",
       "      <td>681679526984871937</td>\n",
       "      <td>2015-12-29 03:33:58</td>\n",
       "      <td>&lt;a href=\"http://twitter.com/download/iphone\" r...</td>\n",
       "      <td>Can you spot Toby the guilty pupper? 7/10 woul...</td>\n",
       "      <td>https://twitter.com/dog_rates/status/681679526...</td>\n",
       "      <td>None</td>\n",
       "      <td>0.7</td>\n",
       "      <td>pupper</td>\n",
       "    </tr>\n",
       "    <tr>\n",
       "      <th>2257</th>\n",
       "      <td>667728196545200128</td>\n",
       "      <td>2015-11-20 15:36:22</td>\n",
       "      <td>&lt;a href=\"http://twitter.com\" rel=\"nofollow\"&gt;Tw...</td>\n",
       "      <td>Meet Olive. He comes to spot by tree to remini...</td>\n",
       "      <td>https://twitter.com/dog_rates/status/667728196...</td>\n",
       "      <td>Olive</td>\n",
       "      <td>1.1</td>\n",
       "      <td>NaN</td>\n",
       "    </tr>\n",
       "    <tr>\n",
       "      <th>1911</th>\n",
       "      <td>674410619106390016</td>\n",
       "      <td>2015-12-09 02:09:56</td>\n",
       "      <td>&lt;a href=\"http://twitter.com/download/iphone\" r...</td>\n",
       "      <td>This is Lenny. He wants to be a sprinkler. 10/...</td>\n",
       "      <td>https://twitter.com/dog_rates/status/674410619...</td>\n",
       "      <td>Lenny</td>\n",
       "      <td>1.0</td>\n",
       "      <td>NaN</td>\n",
       "    </tr>\n",
       "    <tr>\n",
       "      <th>928</th>\n",
       "      <td>754747087846248448</td>\n",
       "      <td>2016-07-17 18:38:22</td>\n",
       "      <td>&lt;a href=\"http://twitter.com/download/iphone\" r...</td>\n",
       "      <td>This is Keith. He's pursuing a more 2D lifesty...</td>\n",
       "      <td>https://twitter.com/dog_rates/status/754747087...</td>\n",
       "      <td>Keith</td>\n",
       "      <td>1.2</td>\n",
       "      <td>NaN</td>\n",
       "    </tr>\n",
       "  </tbody>\n",
       "</table>\n",
       "</div>"
      ],
      "text/plain": [
       "                tweet_id           timestamp  \\\n",
       "62    880095782870896641 2017-06-28 16:09:20   \n",
       "1541  689623661272240129 2016-01-20 01:41:08   \n",
       "1499  692187005137076224 2016-01-27 03:26:56   \n",
       "563   802572683846291456 2016-11-26 18:00:13   \n",
       "1500  692158366030913536 2016-01-27 01:33:08   \n",
       "76    878057613040115712 2017-06-23 01:10:23   \n",
       "1684  681679526984871937 2015-12-29 03:33:58   \n",
       "2257  667728196545200128 2015-11-20 15:36:22   \n",
       "1911  674410619106390016 2015-12-09 02:09:56   \n",
       "928   754747087846248448 2016-07-17 18:38:22   \n",
       "\n",
       "                                                 source  \\\n",
       "62    <a href=\"http://twitter.com/download/iphone\" r...   \n",
       "1541  <a href=\"http://twitter.com/download/iphone\" r...   \n",
       "1499  <a href=\"http://twitter.com/download/iphone\" r...   \n",
       "563   <a href=\"http://twitter.com/download/iphone\" r...   \n",
       "1500  <a href=\"http://twitter.com/download/iphone\" r...   \n",
       "76    <a href=\"http://twitter.com/download/iphone\" r...   \n",
       "1684  <a href=\"http://twitter.com/download/iphone\" r...   \n",
       "2257  <a href=\"http://twitter.com\" rel=\"nofollow\">Tw...   \n",
       "1911  <a href=\"http://twitter.com/download/iphone\" r...   \n",
       "928   <a href=\"http://twitter.com/download/iphone\" r...   \n",
       "\n",
       "                                                   text  \\\n",
       "62    Please don't send in photos without dogs in th...   \n",
       "1541  This is Lucy. She's terrified of the stuffed b...   \n",
       "1499  This is a rare Arctic Wubberfloof. Unamused by...   \n",
       "563   This is Winnie. She's h*ckin ferocious. Dandel...   \n",
       "1500  This is Edgar. He's a Sassafras Puggleflash. N...   \n",
       "76    This is Emmy. She was adopted today. Massive r...   \n",
       "1684  Can you spot Toby the guilty pupper? 7/10 woul...   \n",
       "2257  Meet Olive. He comes to spot by tree to remini...   \n",
       "1911  This is Lenny. He wants to be a sprinkler. 10/...   \n",
       "928   This is Keith. He's pursuing a more 2D lifesty...   \n",
       "\n",
       "                                          expanded_urls    name  rating  \\\n",
       "62    https://twitter.com/dog_rates/status/880095782...    None     1.1   \n",
       "1541  https://twitter.com/dog_rates/status/689623661...    Lucy     1.0   \n",
       "1499  https://twitter.com/dog_rates/status/692187005...       a     1.2   \n",
       "563   https://twitter.com/dog_rates/status/802572683...  Winnie     1.2   \n",
       "1500  https://twitter.com/dog_rates/status/692158366...   Edgar     1.0   \n",
       "76    https://twitter.com/dog_rates/status/878057613...    Emmy     1.4   \n",
       "1684  https://twitter.com/dog_rates/status/681679526...    None     0.7   \n",
       "2257  https://twitter.com/dog_rates/status/667728196...   Olive     1.1   \n",
       "1911  https://twitter.com/dog_rates/status/674410619...   Lenny     1.0   \n",
       "928   https://twitter.com/dog_rates/status/754747087...   Keith     1.2   \n",
       "\n",
       "       stage  \n",
       "62       NaN  \n",
       "1541  pupper  \n",
       "1499     NaN  \n",
       "563      NaN  \n",
       "1500     NaN  \n",
       "76       NaN  \n",
       "1684  pupper  \n",
       "2257     NaN  \n",
       "1911     NaN  \n",
       "928      NaN  "
      ]
     },
     "execution_count": 38,
     "metadata": {},
     "output_type": "execute_result"
    }
   ],
   "source": [
    "twitter_clean.sample(10)\n"
   ]
  },
  {
   "cell_type": "markdown",
   "metadata": {},
   "source": [
    "### Define"
   ]
  },
  {
   "cell_type": "markdown",
   "metadata": {},
   "source": [
    "Merge the retweet_count and favorite_count columns from twitter_add_clean table to the twitter_clean table, joining on given tweet_id.\n"
   ]
  },
  {
   "cell_type": "markdown",
   "metadata": {},
   "source": [
    "##### Code"
   ]
  },
  {
   "cell_type": "code",
   "execution_count": 39,
   "metadata": {},
   "outputs": [],
   "source": [
    "# merge twitter_clean and twitter_add_clean tables\n",
    "twitter_clean = pd.merge(twitter_clean, twitter_add_clean, how='left', on=['tweet_id'])\n"
   ]
  },
  {
   "cell_type": "markdown",
   "metadata": {},
   "source": [
    "###### Test"
   ]
  },
  {
   "cell_type": "code",
   "execution_count": 40,
   "metadata": {},
   "outputs": [
    {
     "data": {
      "text/html": [
       "<div>\n",
       "<style scoped>\n",
       "    .dataframe tbody tr th:only-of-type {\n",
       "        vertical-align: middle;\n",
       "    }\n",
       "\n",
       "    .dataframe tbody tr th {\n",
       "        vertical-align: top;\n",
       "    }\n",
       "\n",
       "    .dataframe thead th {\n",
       "        text-align: right;\n",
       "    }\n",
       "</style>\n",
       "<table border=\"1\" class=\"dataframe\">\n",
       "  <thead>\n",
       "    <tr style=\"text-align: right;\">\n",
       "      <th></th>\n",
       "      <th>tweet_id</th>\n",
       "      <th>timestamp</th>\n",
       "      <th>source</th>\n",
       "      <th>text</th>\n",
       "      <th>expanded_urls</th>\n",
       "      <th>name</th>\n",
       "      <th>rating</th>\n",
       "      <th>stage</th>\n",
       "      <th>favorite_count</th>\n",
       "      <th>retweet_count</th>\n",
       "    </tr>\n",
       "  </thead>\n",
       "  <tbody>\n",
       "    <tr>\n",
       "      <th>0</th>\n",
       "      <td>892420643555336193</td>\n",
       "      <td>2017-08-01 16:23:56</td>\n",
       "      <td>&lt;a href=\"http://twitter.com/download/iphone\" r...</td>\n",
       "      <td>This is Phineas. He's a mystical boy. Only eve...</td>\n",
       "      <td>https://twitter.com/dog_rates/status/892420643...</td>\n",
       "      <td>Phineas</td>\n",
       "      <td>1.3</td>\n",
       "      <td>NaN</td>\n",
       "      <td>37806.0</td>\n",
       "      <td>8245.0</td>\n",
       "    </tr>\n",
       "    <tr>\n",
       "      <th>1</th>\n",
       "      <td>892177421306343426</td>\n",
       "      <td>2017-08-01 00:17:27</td>\n",
       "      <td>&lt;a href=\"http://twitter.com/download/iphone\" r...</td>\n",
       "      <td>This is Tilly. She's just checking pup on you....</td>\n",
       "      <td>https://twitter.com/dog_rates/status/892177421...</td>\n",
       "      <td>Tilly</td>\n",
       "      <td>1.3</td>\n",
       "      <td>NaN</td>\n",
       "      <td>32490.0</td>\n",
       "      <td>6091.0</td>\n",
       "    </tr>\n",
       "    <tr>\n",
       "      <th>2</th>\n",
       "      <td>891815181378084864</td>\n",
       "      <td>2017-07-31 00:18:03</td>\n",
       "      <td>&lt;a href=\"http://twitter.com/download/iphone\" r...</td>\n",
       "      <td>This is Archie. He is a rare Norwegian Pouncin...</td>\n",
       "      <td>https://twitter.com/dog_rates/status/891815181...</td>\n",
       "      <td>Archie</td>\n",
       "      <td>1.2</td>\n",
       "      <td>NaN</td>\n",
       "      <td>24453.0</td>\n",
       "      <td>4029.0</td>\n",
       "    </tr>\n",
       "    <tr>\n",
       "      <th>3</th>\n",
       "      <td>891689557279858688</td>\n",
       "      <td>2017-07-30 15:58:51</td>\n",
       "      <td>&lt;a href=\"http://twitter.com/download/iphone\" r...</td>\n",
       "      <td>This is Darla. She commenced a snooze mid meal...</td>\n",
       "      <td>https://twitter.com/dog_rates/status/891689557...</td>\n",
       "      <td>Darla</td>\n",
       "      <td>1.3</td>\n",
       "      <td>NaN</td>\n",
       "      <td>41152.0</td>\n",
       "      <td>8397.0</td>\n",
       "    </tr>\n",
       "    <tr>\n",
       "      <th>4</th>\n",
       "      <td>891327558926688256</td>\n",
       "      <td>2017-07-29 16:00:24</td>\n",
       "      <td>&lt;a href=\"http://twitter.com/download/iphone\" r...</td>\n",
       "      <td>This is Franklin. He would like you to stop ca...</td>\n",
       "      <td>https://twitter.com/dog_rates/status/891327558...</td>\n",
       "      <td>Franklin</td>\n",
       "      <td>1.2</td>\n",
       "      <td>NaN</td>\n",
       "      <td>39342.0</td>\n",
       "      <td>9094.0</td>\n",
       "    </tr>\n",
       "  </tbody>\n",
       "</table>\n",
       "</div>"
      ],
      "text/plain": [
       "             tweet_id           timestamp  \\\n",
       "0  892420643555336193 2017-08-01 16:23:56   \n",
       "1  892177421306343426 2017-08-01 00:17:27   \n",
       "2  891815181378084864 2017-07-31 00:18:03   \n",
       "3  891689557279858688 2017-07-30 15:58:51   \n",
       "4  891327558926688256 2017-07-29 16:00:24   \n",
       "\n",
       "                                              source  \\\n",
       "0  <a href=\"http://twitter.com/download/iphone\" r...   \n",
       "1  <a href=\"http://twitter.com/download/iphone\" r...   \n",
       "2  <a href=\"http://twitter.com/download/iphone\" r...   \n",
       "3  <a href=\"http://twitter.com/download/iphone\" r...   \n",
       "4  <a href=\"http://twitter.com/download/iphone\" r...   \n",
       "\n",
       "                                                text  \\\n",
       "0  This is Phineas. He's a mystical boy. Only eve...   \n",
       "1  This is Tilly. She's just checking pup on you....   \n",
       "2  This is Archie. He is a rare Norwegian Pouncin...   \n",
       "3  This is Darla. She commenced a snooze mid meal...   \n",
       "4  This is Franklin. He would like you to stop ca...   \n",
       "\n",
       "                                       expanded_urls      name  rating stage  \\\n",
       "0  https://twitter.com/dog_rates/status/892420643...   Phineas     1.3   NaN   \n",
       "1  https://twitter.com/dog_rates/status/892177421...     Tilly     1.3   NaN   \n",
       "2  https://twitter.com/dog_rates/status/891815181...    Archie     1.2   NaN   \n",
       "3  https://twitter.com/dog_rates/status/891689557...     Darla     1.3   NaN   \n",
       "4  https://twitter.com/dog_rates/status/891327558...  Franklin     1.2   NaN   \n",
       "\n",
       "   favorite_count  retweet_count  \n",
       "0         37806.0         8245.0  \n",
       "1         32490.0         6091.0  \n",
       "2         24453.0         4029.0  \n",
       "3         41152.0         8397.0  \n",
       "4         39342.0         9094.0  "
      ]
     },
     "execution_count": 40,
     "metadata": {},
     "output_type": "execute_result"
    }
   ],
   "source": [
    "twitter_clean.head()"
   ]
  },
  {
   "cell_type": "markdown",
   "metadata": {},
   "source": [
    "### Define"
   ]
  },
  {
   "cell_type": "markdown",
   "metadata": {},
   "source": [
    "Merge twitter_pred_clean table to the twitter_clean table, joining on given tweet_id.\n"
   ]
  },
  {
   "cell_type": "markdown",
   "metadata": {},
   "source": [
    "##### Code"
   ]
  },
  {
   "cell_type": "code",
   "execution_count": 41,
   "metadata": {},
   "outputs": [],
   "source": [
    "# merge two tables\n",
    "twitter_clean = pd.merge(twitter_clean, twitter_pred_clean, how='left', on=['tweet_id'])\n"
   ]
  },
  {
   "cell_type": "markdown",
   "metadata": {},
   "source": [
    "###### Test"
   ]
  },
  {
   "cell_type": "code",
   "execution_count": 42,
   "metadata": {},
   "outputs": [
    {
     "name": "stdout",
     "output_type": "stream",
     "text": [
      "<class 'pandas.core.frame.DataFrame'>\n",
      "Int64Index: 1994 entries, 0 to 1993\n",
      "Data columns (total 21 columns):\n",
      "tweet_id          1994 non-null object\n",
      "timestamp         1994 non-null datetime64[ns]\n",
      "source            1994 non-null object\n",
      "text              1994 non-null object\n",
      "expanded_urls     1994 non-null object\n",
      "name              1994 non-null object\n",
      "rating            1994 non-null float64\n",
      "stage             326 non-null object\n",
      "favorite_count    1988 non-null float64\n",
      "retweet_count     1988 non-null float64\n",
      "jpg_url           1994 non-null object\n",
      "img_num           1994 non-null int64\n",
      "p1                1994 non-null object\n",
      "p1_conf           1994 non-null float64\n",
      "p1_dog            1994 non-null bool\n",
      "p2                1994 non-null object\n",
      "p2_conf           1994 non-null float64\n",
      "p2_dog            1994 non-null bool\n",
      "p3                1994 non-null object\n",
      "p3_conf           1994 non-null float64\n",
      "p3_dog            1994 non-null bool\n",
      "dtypes: bool(3), datetime64[ns](1), float64(6), int64(1), object(10)\n",
      "memory usage: 301.8+ KB\n"
     ]
    }
   ],
   "source": [
    "twitter_clean.info()"
   ]
  },
  {
   "cell_type": "markdown",
   "metadata": {},
   "source": [
    "## Storing"
   ]
  },
  {
   "cell_type": "code",
   "execution_count": 43,
   "metadata": {},
   "outputs": [],
   "source": [
    "# save the DataFrame to twitter_archive_master.csv\n",
    "twitter_clean.to_csv('twitter_archive_master.csv', index=False)\n"
   ]
  },
  {
   "cell_type": "markdown",
   "metadata": {},
   "source": [
    "## Analyzing"
   ]
  },
  {
   "cell_type": "markdown",
   "metadata": {},
   "source": [
    "### The most frequently rated breeds"
   ]
  },
  {
   "cell_type": "markdown",
   "metadata": {},
   "source": [
    "I will analyze which breeds were rated the most frequently. \n"
   ]
  },
  {
   "cell_type": "code",
   "execution_count": 44,
   "metadata": {},
   "outputs": [
    {
     "data": {
      "text/plain": [
       "golden_retriever             139\n",
       "Labrador_retriever            95\n",
       "Pembroke                      88\n",
       "Chihuahua                     79\n",
       "pug                           54\n",
       "chow                          41\n",
       "Samoyed                       40\n",
       "toy_poodle                    38\n",
       "Pomeranian                    38\n",
       "malamute                      29\n",
       "cocker_spaniel                27\n",
       "French_bulldog                26\n",
       "Chesapeake_Bay_retriever      23\n",
       "miniature_pinscher            22\n",
       "seat_belt                     21\n",
       "Siberian_husky                20\n",
       "German_shepherd               20\n",
       "Staffordshire_bullterrier     19\n",
       "teddy                         18\n",
       "Maltese_dog                   18\n",
       "Shetland_sheepdog             18\n",
       "Eskimo_dog                    18\n",
       "Name: p1, dtype: int64"
      ]
     },
     "execution_count": 44,
     "metadata": {},
     "output_type": "execute_result"
    }
   ],
   "source": [
    "# find breeds those were ranked more than 18 times\n",
    "\n",
    "rated_breed = twitter_clean.groupby('p1').filter(lambda x: len(x) >= 18)\n",
    "rated_breed['p1'].value_counts()"
   ]
  },
  {
   "cell_type": "code",
   "execution_count": 45,
   "metadata": {},
   "outputs": [
    {
     "data": {
      "image/png": "[encoded data removed]",
      "text/plain": [
       "<matplotlib.figure.Figure at 0x7ff8df4026a0>"
      ]
     },
     "metadata": {
      "needs_background": "light"
     },
     "output_type": "display_data"
    }
   ],
   "source": [
    "# plot bar chart\n",
    "rated_breed['p1'].value_counts().plot(kind = 'bar', color = '#00aadd')\n",
    "plt.title('The Most Rated Breeds')\n",
    "plt.xlabel(\"Breed\")\n",
    "plt.ylabel(\"Count\");"
   ]
  },
  {
   "cell_type": "markdown",
   "metadata": {},
   "source": [
    "As we can see above, golden retrievers have the most common rated breed."
   ]
  },
  {
   "cell_type": "markdown",
   "metadata": {},
   "source": [
    "### Analyze ratings"
   ]
  },
  {
   "cell_type": "code",
   "execution_count": 46,
   "metadata": {},
   "outputs": [
    {
     "data": {
      "image/png": "[encoded data removed]",
      "text/plain": [
       "<matplotlib.figure.Figure at 0x7ff8a7922c18>"
      ]
     },
     "metadata": {
      "needs_background": "light"
     },
     "output_type": "display_data"
    }
   ],
   "source": [
    "# plot ratings\n",
    "twitter_clean.rating.plot(kind = 'hist')\n",
    "plt.title('Rating distribution')\n",
    "plt.xlabel(\"Rating\")\n",
    "plt.ylabel(\"Count\");\n"
   ]
  },
  {
   "cell_type": "markdown",
   "metadata": {},
   "source": [
    "As we can see above, the rating is generally below 20, let's zoom in for better visualization."
   ]
  },
  {
   "cell_type": "code",
   "execution_count": 47,
   "metadata": {},
   "outputs": [
    {
     "data": {
      "image/png": "[encoded data removed]",
      "text/plain": [
       "<matplotlib.figure.Figure at 0x7ff8a71a5470>"
      ]
     },
     "metadata": {
      "needs_background": "light"
     },
     "output_type": "display_data"
    }
   ],
   "source": [
    "# plot for ratings from 0 to 20\n",
    "twitter_clean.rating.plot(kind = 'hist', range = [0, 20])\n",
    "plt.title('Rating distribution')\n",
    "plt.xlabel(\"Rating\")\n",
    "plt.ylabel(\"Count\");"
   ]
  },
  {
   "cell_type": "code",
   "execution_count": 48,
   "metadata": {},
   "outputs": [
    {
     "data": {
      "image/png": "[encoded data removed]",
      "text/plain": [
       "<matplotlib.figure.Figure at 0x7ff8d82b62b0>"
      ]
     },
     "metadata": {
      "needs_background": "light"
     },
     "output_type": "display_data"
    }
   ],
   "source": [
    "# plot for ratings from 0 to 1.5\n",
    "twitter_clean.rating.plot(kind = 'hist', range = [0, 1.5])\n",
    "plt.title('Rating distribution')\n",
    "plt.xlabel(\"Rating\")\n",
    "plt.ylabel(\"Count\");"
   ]
  },
  {
   "cell_type": "markdown",
   "metadata": {},
   "source": [
    "As we can see on the histogram above, the most frequent rating is from 0.9 to 1.3."
   ]
  },
  {
   "cell_type": "markdown",
   "metadata": {},
   "source": [
    "### Retweet and favorite count"
   ]
  },
  {
   "cell_type": "code",
   "execution_count": 49,
   "metadata": {},
   "outputs": [
    {
     "data": {
      "image/png": "[encoded data removed]",
      "text/plain": [
       "<matplotlib.figure.Figure at 0x7ff8a709fba8>"
      ]
     },
     "metadata": {
      "needs_background": "light"
     },
     "output_type": "display_data"
    }
   ],
   "source": [
    "# Plot scatterplot of retweet vs favorite count\n",
    "sns.lmplot(x=\"retweet_count\", y=\"favorite_count\", data=twitter_clean,\n",
    "           aspect=1.5, scatter_kws={'alpha':1/5})\n",
    "plt.title('Favorite count vs Retweet count')\n",
    "plt.xlabel('Retweet')\n",
    "plt.ylabel('Favorite');"
   ]
  },
  {
   "cell_type": "code",
   "execution_count": 50,
   "metadata": {},
   "outputs": [
    {
     "data": {
      "text/html": [
       "<div>\n",
       "<style scoped>\n",
       "    .dataframe tbody tr th:only-of-type {\n",
       "        vertical-align: middle;\n",
       "    }\n",
       "\n",
       "    .dataframe tbody tr th {\n",
       "        vertical-align: top;\n",
       "    }\n",
       "\n",
       "    .dataframe thead th {\n",
       "        text-align: right;\n",
       "    }\n",
       "</style>\n",
       "<table border=\"1\" class=\"dataframe\">\n",
       "  <thead>\n",
       "    <tr style=\"text-align: right;\">\n",
       "      <th></th>\n",
       "      <th>favorite_count</th>\n",
       "      <th>retweet_count</th>\n",
       "    </tr>\n",
       "  </thead>\n",
       "  <tbody>\n",
       "    <tr>\n",
       "      <th>favorite_count</th>\n",
       "      <td>1.000000</td>\n",
       "      <td>0.929598</td>\n",
       "    </tr>\n",
       "    <tr>\n",
       "      <th>retweet_count</th>\n",
       "      <td>0.929598</td>\n",
       "      <td>1.000000</td>\n",
       "    </tr>\n",
       "  </tbody>\n",
       "</table>\n",
       "</div>"
      ],
      "text/plain": [
       "                favorite_count  retweet_count\n",
       "favorite_count        1.000000       0.929598\n",
       "retweet_count         0.929598       1.000000"
      ]
     },
     "execution_count": 50,
     "metadata": {},
     "output_type": "execute_result"
    }
   ],
   "source": [
    "# calculate a correlation coefficient\n",
    "twitter_clean[['favorite_count', 'retweet_count']].corr(method='pearson')\n"
   ]
  },
  {
   "cell_type": "markdown",
   "metadata": {},
   "source": [
    "The correlation coefficient between favorite_count and retweet_count is  quite high - 0.929598. It means these variables have a strong correlation. We also can see it on the scatter plot above."
   ]
  },
  {
   "cell_type": "code",
   "execution_count": null,
   "metadata": {},
   "outputs": [],
   "source": []
  }
 ],
 "metadata": {
  "kernelspec": {
   "display_name": "Python 3",
   "language": "python",
   "name": "python3"
  },
  "language_info": {
   "codemirror_mode": {
    "name": "ipython",
    "version": 3
   },
   "file_extension": ".py",
   "mimetype": "text/x-python",
   "name": "python",
   "nbconvert_exporter": "python",
   "pygments_lexer": "ipython3",
   "version": "3.6.3"
  }
 },
 "nbformat": 4,
 "nbformat_minor": 2
}
